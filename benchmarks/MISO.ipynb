{
 "cells": [
  {
   "cell_type": "code",
   "execution_count": 1,
   "id": "b4dd65e1-55da-409b-841f-6e5861f7bf46",
   "metadata": {},
   "outputs": [
    {
     "name": "stdout",
     "output_type": "stream",
     "text": [
      "CUDA is available. GPU: NVIDIA GeForce RTX 3090\n"
     ]
    }
   ],
   "source": [
    "from miso.hist_features import get_features\n",
    "from miso.utils import *\n",
    "from miso import Miso\n",
    "from PIL import Image\n",
    "import pandas as pd\n",
    "import numpy as np\n",
    "import scanpy as sc\n",
    "import os\n",
    "import matplotlib.pyplot as plt\n",
    "from sklearn.decomposition import PCA\n",
    "Image.MAX_IMAGE_PIXELS = None\n",
    "Image.MAX_IMAGE_PIXELS = None\n",
    "import torch\n",
    "import random\n",
    "\n",
    "seed=100\n",
    "np.random.seed(seed)\n",
    "torch.manual_seed(seed)\n",
    "random.seed(seed)\n",
    "\n",
    "if torch.cuda.is_available():\n",
    "    device = 'cuda:0'\n",
    "    torch.cuda.manual_seed(seed)\n",
    "    torch.backends.cudnn.deterministic = True\n",
    "    torch.backends.cudnn.benchmark = False\n",
    "    print(\"CUDA is available. GPU:\", torch.cuda.get_device_name(0))\n",
    "else:\n",
    "    device = 'cpu'\n",
    "    print(\"CUDA is not available. Using CPU.\")\n"
   ]
  },
  {
   "cell_type": "code",
   "execution_count": 3,
   "id": "8f496a31-cffe-4ef9-ac39-5937945a306b",
   "metadata": {},
   "outputs": [
    {
     "data": {
      "application/vnd.jupyter.widget-view+json": {
       "model_id": "816d2ce86b8f45ef98ff8008f009d691",
       "version_major": 2,
       "version_minor": 0
      },
      "text/plain": [
       "Training network for modality 1:   0%|          | 0/1000 [00:00<?, ?it/s]"
      ]
     },
     "metadata": {},
     "output_type": "display_data"
    },
    {
     "data": {
      "application/vnd.jupyter.widget-view+json": {
       "model_id": "1051babf54f24318840cfd15c7f50960",
       "version_major": 2,
       "version_minor": 0
      },
      "text/plain": [
       "Training network for modality 2:   0%|          | 0/1000 [00:00<?, ?it/s]"
      ]
     },
     "metadata": {},
     "output_type": "display_data"
    },
    {
     "name": "stderr",
     "output_type": "stream",
     "text": [
      "/home/ws6tg/anaconda3/envs/scvi/lib/python3.9/site-packages/anndata/_core/anndata.py:1820: UserWarning: Variable names are not unique. To make them unique, call `.var_names_make_unique`.\n",
      "  utils.warn_names_duplicates(\"var\")\n"
     ]
    }
   ],
   "source": [
    "#Load data and perform necessary preprocessing\n",
    "\n",
    "path=\"../datasets/10x_human_lymph_node_D1/\"\n",
    "\n",
    "rna = sc.read_h5ad(path+\"adata_RNA.h5ad\")\n",
    "rna = preprocess(rna,modality='rna')\n",
    "\n",
    "protein = sc.read_h5ad(path+\"adata_ADT.h5ad\")\n",
    "protein = preprocess(protein,modality='protein')\n",
    "#if using a subset of modality-specific terms, the \"ind_views\" parameter should be a list with values entries to the indices of the modalities to be included, e.g.,  ind_views=[0,2] if including RNA and image features\n",
    "#if using a subset of interaction terms, the \"combs\" parameter should be a list of tuples with entries to the indices of the modalities for each interaction, e.g. combs = [(0,1),(0,2)] if including the RNA-protein and RNA-image interaction terms\n",
    "model = Miso([rna,protein],ind_views='all',combs='all',sparse=False,device=device)\n",
    "model.train()\n",
    "\n",
    "clusters = model.cluster(n_clusters=7)\n",
    "\n",
    "adata=sc.read_h5ad(path+\"adata_RNA.h5ad\")\n",
    "# adata.obs[\"cluster\"]=clusters\n",
    "# adata.obs[\"cluster\"]=adata.obs[\"cluster\"].astype(\"str\")\n",
    "adata.obsm[\"X_miso\"]=model.emb\n",
    "adata.write_h5ad(path.replace(\"datasets\",\"results\")+\"adata_miso.h5ad\")"
   ]
  },
  {
   "cell_type": "code",
   "execution_count": 4,
   "id": "c09fdf3a-a81e-42c2-9184-1d39cd8f08f6",
   "metadata": {},
   "outputs": [
    {
     "name": "stdout",
     "output_type": "stream",
     "text": [
      "WARNING: adata.X seems to be already log-transformed.\n",
      "WARNING: adata.X seems to be already log-transformed.\n"
     ]
    },
    {
     "data": {
      "application/vnd.jupyter.widget-view+json": {
       "model_id": "b10839d014774d7d83d64ead0bc80d41",
       "version_major": 2,
       "version_minor": 0
      },
      "text/plain": [
       "Training network for modality 1:   0%|          | 0/1000 [00:00<?, ?it/s]"
      ]
     },
     "metadata": {},
     "output_type": "display_data"
    },
    {
     "data": {
      "application/vnd.jupyter.widget-view+json": {
       "model_id": "b1ffe3db2aba4ff68a16ad3cb5be6a56",
       "version_major": 2,
       "version_minor": 0
      },
      "text/plain": [
       "Training network for modality 2:   0%|          | 0/1000 [00:00<?, ?it/s]"
      ]
     },
     "metadata": {},
     "output_type": "display_data"
    },
    {
     "data": {
      "application/vnd.jupyter.widget-view+json": {
       "model_id": "c7fdd87cdc0a430a90d7f4d58e7daea5",
       "version_major": 2,
       "version_minor": 0
      },
      "text/plain": [
       "Training network for modality 3:   0%|          | 0/1000 [00:00<?, ?it/s]"
      ]
     },
     "metadata": {},
     "output_type": "display_data"
    }
   ],
   "source": [
    "#Load data and perform necessary preprocessing\n",
    "\n",
    "path=\"../datasets/simulated_data/\"\n",
    "\n",
    "rna = sc.read_h5ad(path+\"adata_RNA.h5ad\")\n",
    "rna = preprocess(rna,modality='rna')\n",
    "\n",
    "protein = sc.read_h5ad(path+\"adata_ADT.h5ad\")\n",
    "protein = preprocess(protein,modality='protein')\n",
    "\n",
    "atac = sc.read_h5ad(path+\"adata_ATAC.h5ad\")\n",
    "atac = preprocess(atac,modality='atac')\n",
    "#if using a subset of modality-specific terms, the \"ind_views\" parameter should be a list with values entries to the indices of the modalities to be included, e.g.,  ind_views=[0,2] if including RNA and image features\n",
    "#if using a subset of interaction terms, the \"combs\" parameter should be a list of tuples with entries to the indices of the modalities for each interaction, e.g. combs = [(0,1),(0,2)] if including the RNA-protein and RNA-image interaction terms\n",
    "model = Miso([rna,protein,atac],ind_views='all',combs='all',sparse=False,device=device)\n",
    "model.train()\n",
    "\n",
    "clusters = model.cluster(n_clusters=5)\n",
    "\n",
    "adata=sc.read_h5ad(path+\"adata_RNA.h5ad\")\n",
    "\n",
    "# adata.obs[\"cluster\"]=adata.obs[\"cluster\"].astype(\"str\")\n",
    "adata.obsm[\"X_miso\"]=model.emb\n",
    "adata.write_h5ad(path.replace(\"datasets\",\"results\")+\"adata_miso.h5ad\")"
   ]
  },
  {
   "cell_type": "code",
   "execution_count": null,
   "id": "26dee087-0485-43a3-8cbe-2897ddfe5e7a",
   "metadata": {},
   "outputs": [],
   "source": []
  }
 ],
 "metadata": {
  "kernelspec": {
   "display_name": "scvi",
   "language": "python",
   "name": "scvi"
  },
  "language_info": {
   "codemirror_mode": {
    "name": "ipython",
    "version": 3
   },
   "file_extension": ".py",
   "mimetype": "text/x-python",
   "name": "python",
   "nbconvert_exporter": "python",
   "pygments_lexer": "ipython3",
   "version": "3.9.18"
  }
 },
 "nbformat": 4,
 "nbformat_minor": 5
}
