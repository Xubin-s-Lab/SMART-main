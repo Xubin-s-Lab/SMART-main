{
 "cells": [
  {
   "cell_type": "code",
   "execution_count": 1,
   "id": "302f0d34-0329-49d6-b7f1-8839810c371a",
   "metadata": {},
   "outputs": [],
   "source": [
    "import pandas as pd\n",
    "import numpy as np\n",
    "import scanpy as sc\n",
    "import matplotlib\n",
    "import matplotlib.pyplot as plt\n",
    "from umap import UMAP\n",
    "import sklearn\n",
    "import seaborn as sns\n",
    "from COSMOS import cosmos\n",
    "from COSMOS.pyWNN import pyWNN \n",
    "import warnings\n",
    "warnings.filterwarnings('ignore')\n",
    "random_seed = 20"
   ]
  },
  {
   "cell_type": "code",
   "execution_count": 2,
   "id": "0af7eaa6-11bb-412a-9598-053b7d7792cb",
   "metadata": {},
   "outputs": [],
   "source": [
    "path=\"../datasets/10x_human_lymph_node_D1/\"\n",
    "adata2=sc.read_h5ad(path+\"adata_ADT.h5ad\")\n",
    "adata1=sc.read_h5ad(path+\"adata_RNA.h5ad\")\n",
    "\n",
    "adata1.obs['x_pos'] = adata1.obsm['spatial'][:,0]\n",
    "adata1.obs['y_pos'] = adata1.obsm['spatial'][:,1]\n",
    "\n",
    "adata2.obs['x_pos'] = adata2.obsm['spatial'][:,0]\n",
    "adata2.obs['y_pos'] = adata2.obsm['spatial'][:,1]\n",
    "\n",
    "# COSMOS integration\n",
    "cosmos_comb = cosmos.Cosmos(adata1=adata1,adata2=adata2)\n",
    "cosmos_comb.preprocessing_data(n_neighbors = 10)\n",
    "cosmos_comb.train(spatial_regularization_strength=0, z_dim=50, \n",
    "         lr=1e-3, wnn_epoch = 500, total_epoch=1000, max_patience_bef=10, max_patience_aft=30, min_stop=200, \n",
    "         random_seed=random_seed, gpu=0, regularization_acceleration=True, edge_subset_sz=1000000)\n",
    "\n",
    "adata1.obsm[\"COSMOS\"]=cosmos_comb.embedding\n",
    "adata1.write_h5ad(path.replace(\"datasets\",\"results\")+\"adata_COSMOS.h5ad\")"
   ]
  }
 ],
 "metadata": {
  "kernelspec": {
   "display_name": "Python 3 (ipykernel)",
   "language": "python",
   "name": "python3"
  },
  "language_info": {
   "codemirror_mode": {
    "name": "ipython",
    "version": 3
   },
   "file_extension": ".py",
   "mimetype": "text/x-python",
   "name": "python",
   "nbconvert_exporter": "python",
   "pygments_lexer": "ipython3",
   "version": "3.9.18"
  }
 },
 "nbformat": 4,
 "nbformat_minor": 5
}
