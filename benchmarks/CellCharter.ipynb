{
 "cells": [
  {
   "cell_type": "code",
   "execution_count": 1,
   "id": "0b477058-5ed6-403d-95e6-786abde51ac0",
   "metadata": {},
   "outputs": [
    {
     "name": "stderr",
     "output_type": "stream",
     "text": [
      "/home/ws6tg/anaconda3/envs/cellcharter/lib/python3.12/site-packages/dask/dataframe/__init__.py:31: FutureWarning: The legacy Dask DataFrame implementation is deprecated and will be removed in a future version. Set the configuration option `dataframe.query-planning` to `True` or None to enable the new Dask Dataframe implementation and silence this warning.\n",
      "  warnings.warn(\n",
      "/home/ws6tg/anaconda3/envs/cellcharter/lib/python3.12/site-packages/anndata/utils.py:434: FutureWarning: Importing read_text from `anndata` is deprecated. Import anndata.io.read_text instead.\n",
      "  warnings.warn(msg, FutureWarning)\n"
     ]
    }
   ],
   "source": [
    "import pandas as pd\n",
    "import numpy as np\n",
    "import scanpy as sc\n",
    "import squidpy as sq"
   ]
  },
  {
   "cell_type": "markdown",
   "id": "6b235bbe-1c29-4e8f-a4e7-1a6fc2c79729",
   "metadata": {},
   "source": [
    "## ADT+RNA"
   ]
  },
  {
   "cell_type": "code",
   "execution_count": 3,
   "id": "d5ba6bcb-3ec5-4a70-b2d2-45116617836a",
   "metadata": {
    "scrolled": true
   },
   "outputs": [
    {
     "name": "stderr",
     "output_type": "stream",
     "text": [
      "/home/ws6tg/anaconda3/envs/cellcharter/lib/python3.12/site-packages/tqdm/auto.py:21: TqdmWarning: IProgress not found. Please update jupyter and ipywidgets. See https://ipywidgets.readthedocs.io/en/stable/user_install.html\n",
      "  from .autonotebook import tqdm as notebook_tqdm\n",
      "/home/ws6tg/anaconda3/envs/cellcharter/lib/python3.12/site-packages/docrep/decorators.py:43: SyntaxWarning: 'param_categorical_covariate_keys' is not a valid key!\n",
      "  doc = func(self, args[0].__doc__, *args[1:], **kwargs)\n",
      "/home/ws6tg/anaconda3/envs/cellcharter/lib/python3.12/site-packages/docrep/decorators.py:43: SyntaxWarning: 'param_continuous_covariate_keys' is not a valid key!\n",
      "  doc = func(self, args[0].__doc__, *args[1:], **kwargs)\n",
      "GPU available: True (cuda), used: True\n",
      "TPU available: False, using: 0 TPU cores\n",
      "HPU available: False, using: 0 HPUs\n",
      "You are using a CUDA device ('NVIDIA GeForce RTX 3090') that has Tensor Cores. To properly utilize them, you should set `torch.set_float32_matmul_precision('medium' | 'high')` which will trade-off precision for performance. For more details, read https://pytorch.org/docs/stable/generated/torch.set_float32_matmul_precision.html#torch.set_float32_matmul_precision\n",
      "LOCAL_RANK: 0 - CUDA_VISIBLE_DEVICES: [0,1,2,3]\n",
      "/home/ws6tg/anaconda3/envs/cellcharter/lib/python3.12/site-packages/lightning/pytorch/trainer/connectors/data_connector.py:425: The 'train_dataloader' does not have many workers which may be a bottleneck. Consider increasing the value of the `num_workers` argument` to `num_workers=63` in the `DataLoader` to improve performance.\n",
      "/home/ws6tg/anaconda3/envs/cellcharter/lib/python3.12/site-packages/lightning/pytorch/trainer/connectors/data_connector.py:425: The 'val_dataloader' does not have many workers which may be a bottleneck. Consider increasing the value of the `num_workers` argument` to `num_workers=63` in the `DataLoader` to improve performance.\n"
     ]
    },
    {
     "name": "stdout",
     "output_type": "stream",
     "text": [
      "Epoch 101/400:  25%|███████████▎                                 | 101/400 [00:53<02:38,  1.89it/s, v_num=1, train_loss_step=3.65e+3, train_loss_epoch=3.57e+3]\n",
      "Monitored metric elbo_validation did not improve in the last 45 records. Best score: 3828.741. Signaling Trainer to stop.\n"
     ]
    },
    {
     "name": "stderr",
     "output_type": "stream",
     "text": [
      "GPU available: True (cuda), used: True\n",
      "TPU available: False, using: 0 TPU cores\n",
      "HPU available: False, using: 0 HPUs\n",
      "LOCAL_RANK: 0 - CUDA_VISIBLE_DEVICES: [0,1,2,3]\n",
      "/home/ws6tg/anaconda3/envs/cellcharter/lib/python3.12/site-packages/lightning/pytorch/trainer/connectors/data_connector.py:425: The 'train_dataloader' does not have many workers which may be a bottleneck. Consider increasing the value of the `num_workers` argument` to `num_workers=63` in the `DataLoader` to improve performance.\n",
      "/home/ws6tg/anaconda3/envs/cellcharter/lib/python3.12/site-packages/lightning/pytorch/trainer/connectors/data_connector.py:425: The 'val_dataloader' does not have many workers which may be a bottleneck. Consider increasing the value of the `num_workers` argument` to `num_workers=63` in the `DataLoader` to improve performance.\n"
     ]
    },
    {
     "name": "stdout",
     "output_type": "stream",
     "text": [
      "Epoch 341/400:  85%|█████████████████████████████████████████████▏       | 341/400 [02:24<00:25,  2.36it/s, v_num=1, train_loss_step=280, train_loss_epoch=279]\n",
      "Monitored metric elbo_validation did not improve in the last 45 records. Best score: 282.310. Signaling Trainer to stop.\n"
     ]
    },
    {
     "name": "stderr",
     "output_type": "stream",
     "text": [
      "100%|███████████████████████████████████████████████████████████████████████████████████████████████████████████████████████████| 5/5 [00:00<00:00, 390.70it/s]\n"
     ]
    }
   ],
   "source": [
    "path=\"../datasets/10x_human_lymph_node_D1/\"\n",
    "adata2=sc.read_h5ad(path+\"adata_ADT.h5ad\")\n",
    "adata1=sc.read_h5ad(path+\"adata_RNA.h5ad\")\n",
    "\n",
    "adata = sc.concat([adata1, adata2], axis=1, merge='same')\n",
    "adata.obs['sample'] = 'Human_Lymph_Node'\n",
    "adata.obs['sample'] = pd.Categorical(adata.obs['sample'])\n",
    "adata.uns['spatial'] = {s: {} for s in adata.obs['sample'].unique()}\n",
    "sq.gr.spatial_neighbors(adata, library_key='sample', coord_type='grid', n_neighs=4, n_rings=1)\n",
    "\n",
    "adata1.layers[\"counts\"] = adata1.X.copy()\n",
    "\n",
    "sc.pp.normalize_total(adata1, target_sum=1e6)\n",
    "sc.pp.log1p(adata1)\n",
    "\n",
    "import scvi\n",
    "scvi.model.SCVI.setup_anndata(\n",
    "    adata1, \n",
    "    layer=\"counts\", \n",
    ")\n",
    " \n",
    "model1 = scvi.model.SCVI(adata1)\n",
    "model1.to_device(\"cuda:1\")\n",
    "model1.train(early_stopping=True, enable_progress_bar=True,accelerator=\"cuda\",devices=1)\n",
    "\n",
    "adata1.obsm['X_scVI'] = model1.get_latent_representation()\n",
    "\n",
    "adata2.layers[\"counts\"] = adata2.X.copy()\n",
    "scvi.model.SCVI.setup_anndata(\n",
    "    adata2, \n",
    "    layer=\"counts\",\n",
    ")\n",
    "\n",
    "model2 = scvi.model.SCVI(adata2)\n",
    "model2.to_device(\"cuda:1\")\n",
    "model2.train(early_stopping=True, enable_progress_bar=True,accelerator=\"cuda\",devices=1,batch_size=)\n",
    "\n",
    "adata2.obsm['X_scVI'] = model2.get_latent_representation()\n",
    "\n",
    "import cellcharter as cc\n",
    "\n",
    "adata.obsm['X_scVI'] = np.concatenate([adata1.obsm['X_scVI'], adata2.obsm['X_scVI']], axis=1)\n",
    "cc.gr.aggregate_neighbors(adata, n_layers=4, use_rep='X_scVI')\n",
    "adata.write_h5ad(path.replace(\"datasets\",\"results\")+\"adata_cellcharter.h5ad\")"
   ]
  },
  {
   "cell_type": "markdown",
   "id": "81f77a51-147d-4715-b1c0-b99fb7579873",
   "metadata": {},
   "source": [
    "## ADT+RNA+ATAC"
   ]
  },
  {
   "cell_type": "code",
   "execution_count": 23,
   "id": "6ce156e8-8af5-40db-bca8-52979b192366",
   "metadata": {},
   "outputs": [
    {
     "name": "stdout",
     "output_type": "stream",
     "text": [
      "WARNING: adata.X seems to be already log-transformed.\n"
     ]
    },
    {
     "name": "stderr",
     "output_type": "stream",
     "text": [
      "GPU available: True (cuda), used: True\n",
      "TPU available: False, using: 0 TPU cores\n",
      "HPU available: False, using: 0 HPUs\n"
     ]
    },
    {
     "name": "stdout",
     "output_type": "stream",
     "text": [
      "Epoch 180/400:  45%|████████████████████▎                        | 180/400 [00:36<00:44,  4.95it/s, v_num=1, train_loss_step=1.19e+3, train_loss_epoch=1.21e+3]\n",
      "Monitored metric elbo_validation did not improve in the last 45 records. Best score: 1324.480. Signaling Trainer to stop.\n"
     ]
    },
    {
     "name": "stderr",
     "output_type": "stream",
     "text": [
      "GPU available: True (cuda), used: True\n",
      "TPU available: False, using: 0 TPU cores\n",
      "HPU available: False, using: 0 HPUs\n"
     ]
    },
    {
     "name": "stdout",
     "output_type": "stream",
     "text": [
      "Epoch 400/400: 100%|█████████████████████████████████████████████████████| 400/400 [01:19<00:00,  5.29it/s, v_num=1, train_loss_step=379, train_loss_epoch=326]"
     ]
    },
    {
     "name": "stderr",
     "output_type": "stream",
     "text": [
      "`Trainer.fit` stopped: `max_epochs=400` reached.\n"
     ]
    },
    {
     "name": "stdout",
     "output_type": "stream",
     "text": [
      "Epoch 400/400: 100%|█████████████████████████████████████████████████████| 400/400 [01:19<00:00,  5.02it/s, v_num=1, train_loss_step=379, train_loss_epoch=326]\n"
     ]
    },
    {
     "name": "stderr",
     "output_type": "stream",
     "text": [
      "GPU available: True (cuda), used: True\n",
      "TPU available: False, using: 0 TPU cores\n",
      "HPU available: False, using: 0 HPUs\n"
     ]
    },
    {
     "name": "stdout",
     "output_type": "stream",
     "text": [
      "Epoch 175/400:  44%|███████████████████▋                         | 175/400 [00:35<00:45,  4.98it/s, v_num=1, train_loss_step=1.62e+3, train_loss_epoch=1.54e+3]\n",
      "Monitored metric elbo_validation did not improve in the last 45 records. Best score: 1585.607. Signaling Trainer to stop.\n"
     ]
    },
    {
     "name": "stderr",
     "output_type": "stream",
     "text": [
      "100%|███████████████████████████████████████████████████████████████████████████████████████████████████████████████████████████| 5/5 [00:00<00:00, 910.34it/s]"
     ]
    },
    {
     "name": "stdout",
     "output_type": "stream",
     "text": [
      "(1296, 150)\n"
     ]
    },
    {
     "name": "stderr",
     "output_type": "stream",
     "text": [
      "\n"
     ]
    }
   ],
   "source": [
    "path=\"../datasets/simulated_data/\"\n",
    "adata2=sc.read_h5ad(path+\"adata_ADT.h5ad\")\n",
    "adata1=sc.read_h5ad(path+\"adata_RNA.h5ad\")\n",
    "adata3=sc.read_h5ad(path+\"adata_ATAC.h5ad\")\n",
    "\n",
    "adata = sc.concat([adata1, adata2,adata3], axis=1, merge='same')\n",
    "adata.obs['sample'] = 'Hsimulated_data'\n",
    "adata.obs['sample'] = pd.Categorical(adata.obs['sample'])\n",
    "adata.uns['spatial'] = {s: {} for s in adata.obs['sample'].unique()}\n",
    "sq.gr.spatial_neighbors(adata, library_key='sample', coord_type='grid', n_neighs=3, n_rings=1)\n",
    "\n",
    "adata1.layers[\"counts\"] = adata1.X.copy()\n",
    "\n",
    "sc.pp.normalize_total(adata1, target_sum=1e6)\n",
    "sc.pp.log1p(adata1)\n",
    "\n",
    "import scvi\n",
    "scvi.model.SCVI.setup_anndata(\n",
    "    adata1, \n",
    "    layer=\"counts\", \n",
    ")\n",
    " \n",
    "model1 = scvi.model.SCVI(adata1)\n",
    "model1.to_device(\"cuda:1\")\n",
    "model1.train(early_stopping=True, enable_progress_bar=True,accelerator=\"cuda\",devices=1)\n",
    "\n",
    "adata1.obsm['X_scVI'] = model1.get_latent_representation()\n",
    "\n",
    "adata2.layers[\"counts\"] = adata2.X.copy()\n",
    "scvi.model.SCVI.setup_anndata(\n",
    "    adata2, \n",
    "    layer=\"counts\",\n",
    ")\n",
    "\n",
    "model2 = scvi.model.SCVI(adata2)\n",
    "model2.to_device(\"cuda:1\")\n",
    "model2.train(early_stopping=True, enable_progress_bar=True,accelerator=\"cuda\",devices=1)\n",
    "\n",
    "adata2.obsm['X_scVI'] = model2.get_latent_representation()\n",
    "\n",
    "adata3.layers[\"counts\"] = adata3.X.copy()\n",
    "scvi.model.SCVI.setup_anndata(\n",
    "    adata3, \n",
    "    layer=\"counts\",\n",
    ")\n",
    "\n",
    "model3 = scvi.model.SCVI(adata3)\n",
    "model3.to_device(\"cuda:1\")\n",
    "model3.train(early_stopping=True, enable_progress_bar=True,accelerator=\"cuda\",devices=1)\n",
    "\n",
    "adata3.obsm['X_scVI'] = model3.get_latent_representation()\n",
    "\n",
    "import cellcharter as cc\n",
    "\n",
    "adata.obsm['X_scVI'] = np.concatenate([adata1.obsm['X_scVI'], adata2.obsm['X_scVI'], adata3.obsm['X_scVI']], axis=1)\n",
    "cc.gr.aggregate_neighbors(adata, n_layers=4, use_rep='X_scVI')\n",
    "print(adata.obsm['X_cellcharter'].shape)\n",
    "adata.write_h5ad(path.replace(\"datasets\",\"results\")+\"adata_cellcharter.h5ad\")"
   ]
  },
  {
   "cell_type": "markdown",
   "id": "59f41f24-d965-4199-a1c0-95acebf37206",
   "metadata": {},
   "source": [
    "## RNA+ATAC"
   ]
  },
  {
   "cell_type": "code",
   "execution_count": null,
   "id": "4b48a434-1a92-4f34-a387-766bfbc15b6f",
   "metadata": {
    "scrolled": true
   },
   "outputs": [],
   "source": [
    "for path in [\"../datasets/Mouse_Brain_E11_S1/\",\"../datasets/Mouse_Brain_E13_S1/\",\"../datasets/Mouse_Brain_E15_S1/\",\"../datasets/Mouse_Brain_E18_S1/\"]:\n",
    "\n",
    "    adata1=sc.read_h5ad(path+\"adata_RNA.h5ad\")\n",
    "    adata2=sc.read_h5ad(path+\"adata_ATAC.h5ad\")\n",
    "    \n",
    "    adata = sc.concat([adata1, adata2], axis=1, merge='same')\n",
    "    adata.obs['sample'] = 'Hsimulated_data'\n",
    "    adata.obs['sample'] = pd.Categorical(adata.obs['sample'])\n",
    "    adata.uns['spatial'] = {s: {} for s in adata.obs['sample'].unique()}\n",
    "    sq.gr.spatial_neighbors(adata, library_key='sample', coord_type='grid', n_neighs=3, n_rings=1)\n",
    "    \n",
    "    adata1.layers[\"counts\"] = adata1.X.copy()\n",
    "    \n",
    "    sc.pp.normalize_total(adata1, target_sum=1e6)\n",
    "    sc.pp.log1p(adata1)\n",
    "    \n",
    "    import scvi\n",
    "    scvi.model.SCVI.setup_anndata(\n",
    "        adata1, \n",
    "        layer=\"counts\", \n",
    "    )\n",
    "     \n",
    "    model1 = scvi.model.SCVI(adata1)\n",
    "    model1.to_device(\"cuda:1\")\n",
    "    model1.train(early_stopping=True, enable_progress_bar=True,accelerator=\"cuda\",devices=1)\n",
    "    \n",
    "    adata1.obsm['X_scVI'] = model1.get_latent_representation()\n",
    "    \n",
    "    adata2.layers[\"counts\"] = adata2.X.copy()\n",
    "    scvi.model.SCVI.setup_anndata(\n",
    "        adata2, \n",
    "        layer=\"counts\",\n",
    "    )\n",
    "    \n",
    "    model2 = scvi.model.SCVI(adata2)\n",
    "    model2.to_device(\"cuda:1\")\n",
    "    model2.train(early_stopping=True, enable_progress_bar=True,accelerator=\"cuda\",devices=1)\n",
    "    \n",
    "    adata2.obsm['X_scVI'] = model2.get_latent_representation()\n",
    "    \n",
    "\n",
    "    import cellcharter as cc\n",
    "    \n",
    "    adata.obsm['X_scVI'] = np.concatenate([adata1.obsm['X_scVI'], adata2.obsm['X_scVI']], axis=1)\n",
    "    cc.gr.aggregate_neighbors(adata, n_layers=4, use_rep='X_scVI')\n",
    "    print(adata.obsm['X_cellcharter'].shape)\n",
    "    adata.write_h5ad(path.replace(\"datasets\",\"results\")+\"adata_cellcharter.h5ad\")"
   ]
  },
  {
   "cell_type": "code",
   "execution_count": 2,
   "id": "00125508-d9c7-4226-ab3a-ce95a0de498f",
   "metadata": {
    "scrolled": true
   },
   "outputs": [
    {
     "name": "stdout",
     "output_type": "stream",
     "text": [
      "Fri May  2 19:06:10 2025       \n",
      "+-----------------------------------------------------------------------------------------+\n",
      "| NVIDIA-SMI 550.54.14              Driver Version: 550.54.14      CUDA Version: 12.4     |\n",
      "|-----------------------------------------+------------------------+----------------------+\n",
      "| GPU  Name                 Persistence-M | Bus-Id          Disp.A | Volatile Uncorr. ECC |\n",
      "| Fan  Temp   Perf          Pwr:Usage/Cap |           Memory-Usage | GPU-Util  Compute M. |\n",
      "|                                         |                        |               MIG M. |\n",
      "|=========================================+========================+======================|\n",
      "|   0  NVIDIA GeForce RTX 3090        Off |   00000000:3B:00.0 Off |                  N/A |\n",
      "|  0%   27C    P8             22W /  350W |       0MiB /  24576MiB |      0%      Default |\n",
      "|                                         |                        |                  N/A |\n",
      "+-----------------------------------------+------------------------+----------------------+\n",
      "|   1  NVIDIA GeForce RTX 3090        Off |   00000000:5E:00.0 Off |                  N/A |\n",
      "|  0%   23C    P8             18W /  350W |       0MiB /  24576MiB |      0%      Default |\n",
      "|                                         |                        |                  N/A |\n",
      "+-----------------------------------------+------------------------+----------------------+\n",
      "|   2  NVIDIA GeForce RTX 3090        Off |   00000000:B1:00.0 Off |                  N/A |\n",
      "| 30%   26C    P8             24W /  350W |    2888MiB /  24576MiB |      0%      Default |\n",
      "|                                         |                        |                  N/A |\n",
      "+-----------------------------------------+------------------------+----------------------+\n",
      "|   3  NVIDIA GeForce RTX 3090        Off |   00000000:D9:00.0 Off |                  N/A |\n",
      "| 58%   46C    P2            135W /  350W |   18268MiB /  24576MiB |      0%      Default |\n",
      "|                                         |                        |                  N/A |\n",
      "+-----------------------------------------+------------------------+----------------------+\n",
      "                                                                                         \n",
      "+-----------------------------------------------------------------------------------------+\n",
      "| Processes:                                                                              |\n",
      "|  GPU   GI   CI        PID   Type   Process name                              GPU Memory |\n",
      "|        ID   ID                                                               Usage      |\n",
      "|=========================================================================================|\n",
      "|    2   N/A  N/A   2976209      C   ...fold/colabfold-conda/bin/python3.10        320MiB |\n",
      "|    3   N/A  N/A   2976209      C   ...fold/colabfold-conda/bin/python3.10        256MiB |\n",
      "|    3   N/A  N/A   3357164      C   python                                      18002MiB |\n",
      "+-----------------------------------------------------------------------------------------+\n"
     ]
    },
    {
     "name": "stderr",
     "output_type": "stream",
     "text": [
      "/home/ws6tg/anaconda3/envs/cellcharter/lib/python3.12/site-packages/tqdm/auto.py:21: TqdmWarning: IProgress not found. Please update jupyter and ipywidgets. See https://ipywidgets.readthedocs.io/en/stable/user_install.html\n",
      "  from .autonotebook import tqdm as notebook_tqdm\n",
      "/home/ws6tg/anaconda3/envs/cellcharter/lib/python3.12/site-packages/docrep/decorators.py:43: SyntaxWarning: 'param_categorical_covariate_keys' is not a valid key!\n",
      "  doc = func(self, args[0].__doc__, *args[1:], **kwargs)\n",
      "/home/ws6tg/anaconda3/envs/cellcharter/lib/python3.12/site-packages/docrep/decorators.py:43: SyntaxWarning: 'param_continuous_covariate_keys' is not a valid key!\n",
      "  doc = func(self, args[0].__doc__, *args[1:], **kwargs)\n",
      "/home/ws6tg/anaconda3/envs/cellcharter/lib/python3.12/site-packages/scvi/data/fields/_layer_field.py:115: UserWarning: Training will be faster when sparse matrix is formatted as CSR. It is safe to cast before model initialization.\n",
      "  _verify_and_correct_data_format(adata, self.attr_name, self.attr_key)\n",
      "GPU available: True (cuda), used: True\n",
      "TPU available: False, using: 0 TPU cores\n",
      "HPU available: False, using: 0 HPUs\n",
      "You are using a CUDA device ('NVIDIA GeForce RTX 3090') that has Tensor Cores. To properly utilize them, you should set `torch.set_float32_matmul_precision('medium' | 'high')` which will trade-off precision for performance. For more details, read https://pytorch.org/docs/stable/generated/torch.set_float32_matmul_precision.html#torch.set_float32_matmul_precision\n",
      "LOCAL_RANK: 0 - CUDA_VISIBLE_DEVICES: [0,1,2,3]\n",
      "/home/ws6tg/anaconda3/envs/cellcharter/lib/python3.12/site-packages/lightning/pytorch/trainer/connectors/data_connector.py:425: The 'train_dataloader' does not have many workers which may be a bottleneck. Consider increasing the value of the `num_workers` argument` to `num_workers=63` in the `DataLoader` to improve performance.\n",
      "/home/ws6tg/anaconda3/envs/cellcharter/lib/python3.12/site-packages/lightning/pytorch/trainer/connectors/data_connector.py:425: The 'val_dataloader' does not have many workers which may be a bottleneck. Consider increasing the value of the `num_workers` argument` to `num_workers=63` in the `DataLoader` to improve performance.\n"
     ]
    },
    {
     "name": "stdout",
     "output_type": "stream",
     "text": [
      "Epoch 130/400:  32%|██████████████▉                               | 130/400 [11:16<23:24,  5.20s/it, v_num=1, train_loss_step=5.8e+3, train_loss_epoch=6.33e+3]\n",
      "Monitored metric elbo_validation did not improve in the last 45 records. Best score: 6484.739. Signaling Trainer to stop.\n",
      "peak memory: 18175.65 MiB, increment: 710.99 MiB\n",
      "CPU times: user 11min 11s, sys: 5.52 s, total: 11min 17s\n",
      "Wall time: 11min 17s\n"
     ]
    },
    {
     "name": "stderr",
     "output_type": "stream",
     "text": [
      "GPU available: True (cuda), used: True\n",
      "TPU available: False, using: 0 TPU cores\n",
      "HPU available: False, using: 0 HPUs\n",
      "LOCAL_RANK: 0 - CUDA_VISIBLE_DEVICES: [0,1,2,3]\n",
      "/home/ws6tg/anaconda3/envs/cellcharter/lib/python3.12/site-packages/lightning/pytorch/trainer/connectors/data_connector.py:425: The 'train_dataloader' does not have many workers which may be a bottleneck. Consider increasing the value of the `num_workers` argument` to `num_workers=63` in the `DataLoader` to improve performance.\n",
      "/home/ws6tg/anaconda3/envs/cellcharter/lib/python3.12/site-packages/lightning/pytorch/trainer/connectors/data_connector.py:425: The 'val_dataloader' does not have many workers which may be a bottleneck. Consider increasing the value of the `num_workers` argument` to `num_workers=63` in the `DataLoader` to improve performance.\n"
     ]
    },
    {
     "name": "stdout",
     "output_type": "stream",
     "text": [
      "Epoch 123/400:  31%|█████████████▊                               | 123/400 [19:40<44:18,  9.60s/it, v_num=1, train_loss_step=1.62e+5, train_loss_epoch=1.62e+5]\n",
      "Monitored metric elbo_validation did not improve in the last 45 records. Best score: 172869.484. Signaling Trainer to stop.\n",
      "peak memory: 26378.57 MiB, increment: 399.98 MiB\n",
      "CPU times: user 10min 2s, sys: 9min 39s, total: 19min 42s\n",
      "Wall time: 19min 41s\n"
     ]
    },
    {
     "name": "stderr",
     "output_type": "stream",
     "text": [
      "100%|███████████████████████████████████████████████████████████████████████████████████████████████████████████████████████████| 5/5 [00:00<00:00, 206.82it/s]\n"
     ]
    },
    {
     "name": "stdout",
     "output_type": "stream",
     "text": [
      "peak memory: 26242.91 MiB, increment: 3.42 MiB\n",
      "CPU times: user 410 ms, sys: 205 ms, total: 616 ms\n",
      "Wall time: 936 ms\n",
      "(9752, 100)\n",
      "Fri May  2 19:38:44 2025       \n",
      "+-----------------------------------------------------------------------------------------+\n",
      "| NVIDIA-SMI 550.54.14              Driver Version: 550.54.14      CUDA Version: 12.4     |\n",
      "|-----------------------------------------+------------------------+----------------------+\n",
      "| GPU  Name                 Persistence-M | Bus-Id          Disp.A | Volatile Uncorr. ECC |\n",
      "| Fan  Temp   Perf          Pwr:Usage/Cap |           Memory-Usage | GPU-Util  Compute M. |\n",
      "|                                         |                        |               MIG M. |\n",
      "|=========================================+========================+======================|\n",
      "|   0  NVIDIA GeForce RTX 3090        Off |   00000000:3B:00.0 Off |                  N/A |\n",
      "| 30%   31C    P8             21W /  350W |     702MiB /  24576MiB |      0%      Default |\n",
      "|                                         |                        |                  N/A |\n",
      "+-----------------------------------------+------------------------+----------------------+\n",
      "|   1  NVIDIA GeForce RTX 3090        Off |   00000000:5E:00.0 Off |                  N/A |\n",
      "|  0%   21C    P8             18W /  350W |     260MiB /  24576MiB |      0%      Default |\n",
      "|                                         |                        |                  N/A |\n",
      "+-----------------------------------------+------------------------+----------------------+\n",
      "|   2  NVIDIA GeForce RTX 3090        Off |   00000000:B1:00.0 Off |                  N/A |\n",
      "| 30%   27C    P8             24W /  350W |    2888MiB /  24576MiB |      0%      Default |\n",
      "|                                         |                        |                  N/A |\n",
      "+-----------------------------------------+------------------------+----------------------+\n",
      "|   3  NVIDIA GeForce RTX 3090        Off |   00000000:D9:00.0 Off |                  N/A |\n",
      "| 69%   61C    P2            293W /  350W |   18268MiB /  24576MiB |     78%      Default |\n",
      "|                                         |                        |                  N/A |\n",
      "+-----------------------------------------+------------------------+----------------------+\n",
      "                                                                                         \n",
      "+-----------------------------------------------------------------------------------------+\n",
      "| Processes:                                                                              |\n",
      "|  GPU   GI   CI        PID   Type   Process name                              GPU Memory |\n",
      "|        ID   ID                                                               Usage      |\n",
      "|=========================================================================================|\n",
      "|    0   N/A  N/A   3397722      C   ...aconda3/envs/cellcharter/bin/python        696MiB |\n",
      "|    1   N/A  N/A   3397722      C   ...aconda3/envs/cellcharter/bin/python        254MiB |\n",
      "|    2   N/A  N/A   2976209      C   ...fold/colabfold-conda/bin/python3.10        320MiB |\n",
      "|    3   N/A  N/A   2976209      C   ...fold/colabfold-conda/bin/python3.10        256MiB |\n",
      "|    3   N/A  N/A   3440169      C   python                                      18002MiB |\n",
      "+-----------------------------------------------------------------------------------------+\n"
     ]
    }
   ],
   "source": [
    "%reload_ext memory_profiler\n",
    "\n",
    "path='../datasets/Mouse_Brain_H3K27me3/'\n",
    "\n",
    "!nvidia-smi\n",
    "adata1=sc.read_h5ad(path+\"adata_RNA.h5ad\")\n",
    "adata2=sc.read_h5ad(path+\"adata_ATAC.h5ad\")\n",
    "\n",
    "adata = sc.concat([adata1, adata2], axis=1, merge='same')\n",
    "adata.obs['sample'] = 'Hsimulated_data'\n",
    "adata.obs['sample'] = pd.Categorical(adata.obs['sample'])\n",
    "adata.uns['spatial'] = {s: {} for s in adata.obs['sample'].unique()}\n",
    "sq.gr.spatial_neighbors(adata, library_key='sample', coord_type='grid', n_neighs=3, n_rings=1)\n",
    "\n",
    "adata1.layers[\"counts\"] = adata1.X.copy()\n",
    "\n",
    "sc.pp.normalize_total(adata1, target_sum=1e6)\n",
    "sc.pp.log1p(adata1)\n",
    "\n",
    "import scvi\n",
    "scvi.model.SCVI.setup_anndata(\n",
    "    adata1, \n",
    "    layer=\"counts\", \n",
    ")\n",
    " \n",
    "model1 = scvi.model.SCVI(adata1)\n",
    "model1.to_device(\"cuda:1\")\n",
    "%time %memit model1.train(early_stopping=True, enable_progress_bar=True,accelerator=\"cuda\",devices=1)\n",
    "\n",
    "adata1.obsm['X_scVI'] = model1.get_latent_representation()\n",
    "\n",
    "adata2.layers[\"counts\"] = adata2.X.copy()\n",
    "scvi.model.SCVI.setup_anndata(\n",
    "    adata2, \n",
    "    layer=\"counts\",\n",
    ")\n",
    "\n",
    "model2 = scvi.model.SCVI(adata2)\n",
    "model2.to_device(\"cuda:1\")\n",
    "%time %memit model2.train(early_stopping=True, enable_progress_bar=True,accelerator=\"cuda\",devices=1)\n",
    "\n",
    "adata2.obsm['X_scVI'] = model2.get_latent_representation()\n",
    "\n",
    "\n",
    "import cellcharter as cc\n",
    "\n",
    "adata.obsm['X_scVI'] = np.concatenate([adata1.obsm['X_scVI'], adata2.obsm['X_scVI']], axis=1)\n",
    "%time %memit cc.gr.aggregate_neighbors(adata, n_layers=4, use_rep='X_scVI')\n",
    "print(adata.obsm['X_cellcharter'].shape)\n",
    "adata.write_h5ad(path.replace(\"datasets\",\"results\")+\"adata_cellcharter.h5ad\")\n",
    "!nvidia-smi"
   ]
  },
  {
   "cell_type": "code",
   "execution_count": null,
   "id": "270e584f-6f37-4df6-90d8-810698f66137",
   "metadata": {},
   "outputs": [],
   "source": []
  }
 ],
 "metadata": {
  "kernelspec": {
   "display_name": "cellcharter",
   "language": "python",
   "name": "cellcharter"
  },
  "language_info": {
   "codemirror_mode": {
    "name": "ipython",
    "version": 3
   },
   "file_extension": ".py",
   "mimetype": "text/x-python",
   "name": "python",
   "nbconvert_exporter": "python",
   "pygments_lexer": "ipython3",
   "version": "3.12.10"
  }
 },
 "nbformat": 4,
 "nbformat_minor": 5
}
