{
 "cells": [
  {
   "cell_type": "code",
   "execution_count": null,
   "id": "ba729412-e1c7-47e9-821b-93a48d6f2f72",
   "metadata": {},
   "outputs": [
    {
     "name": "stderr",
     "output_type": "stream",
     "text": [
      "  0%|                                                                                            | 0/600 [00:00<?, ?it/s]/home/ws6tg/anaconda3/envs/scvi/lib/python3.9/site-packages/SpatialGlue/model.py:212: UserWarning: Implicit dimension choice for softmax has been deprecated. Change the call to include dim=X as an argument.\n",
      "  self.alpha = F.softmax(torch.squeeze(self.vu) + 1e-6)\n",
      "100%|██████████████████████████████████████████████████████████████████████████████████| 600/600 [00:45<00:00, 13.06it/s]\n"
     ]
    },
    {
     "name": "stdout",
     "output_type": "stream",
     "text": [
      "Model training finished!\n",
      "\n"
     ]
    }
   ],
   "source": [
    "import os\n",
    "import torch\n",
    "import pandas as pd\n",
    "import scanpy as sc\n",
    "import SpatialGlue\n",
    "\n",
    "\n",
    "for path in ['../../datasets/Human_Lymph_Node_A1/','../../datasets/Human_Lymph_Node_D1/']:\n",
    "    adata_omics1 = sc.read_h5ad(path + 'adata_RNA.h5ad')\n",
    "    adata_omics2 = sc.read_h5ad(path + 'adata_ADT.h5ad')\n",
    "    \n",
    "    adata_omics1.var_names_make_unique()\n",
    "    adata_omics2.var_names_make_unique()\n",
    "\n",
    "    # Specify data type\n",
    "    # Fix random seed\n",
    "    from SpatialGlue.preprocess import fix_seed\n",
    "    random_seed = 2022\n",
    "    fix_seed(random_seed)\n",
    "\n",
    "    from SpatialGlue.preprocess import clr_normalize_each_cell, pca\n",
    "\n",
    "\n",
    "    # RNA\n",
    "    sc.pp.filter_genes(adata_omics1, min_cells=10)\n",
    "    sc.pp.highly_variable_genes(adata_omics1, flavor=\"seurat_v3\", n_top_genes=3000)\n",
    "    sc.pp.normalize_total(adata_omics1, target_sum=1e4)\n",
    "    sc.pp.log1p(adata_omics1)\n",
    "    sc.pp.scale(adata_omics1)\n",
    "    \n",
    "    adata_omics1_high =  adata_omics1[:, adata_omics1.var['highly_variable']]\n",
    "    adata_omics1.obsm['feat'] = pca(adata_omics1_high, n_comps=30)\n",
    "    \n",
    "    # Protein\n",
    "    adata_omics2 = clr_normalize_each_cell(adata_omics2)\n",
    "    sc.pp.scale(adata_omics2)\n",
    "    adata_omics2.obsm['feat'] = pca(adata_omics2, n_comps=30)\n",
    "\n",
    "    from SpatialGlue.preprocess import construct_neighbor_graph\n",
    "    data = construct_neighbor_graph(adata_omics1, adata_omics2,datatype='10x')\n",
    "\n",
    "    device = torch.device('cuda:0' if torch.cuda.is_available() else 'cpu')\n",
    "\n",
    "    from SpatialGlue.SpatialGlue_pyG import Train_SpatialGlue\n",
    "    #model = Train_SpatialGlue(data, device=device,datatype='10x')\n",
    "    model = Train_SpatialGlue(data, device=device,datatype='Setreo-CITE-seq')\n",
    "    \n",
    "    # train model\n",
    "    output = model.train()\n",
    "\n",
    "    adata = adata_omics1.copy()\n",
    "    adata.obsm[\"X_SpatialGlue\"]=output['SpatialGlue'].copy()\n",
    "\n",
    "    result_path=path.replace(\"datasets\",\"results\")\n",
    "    adata.write_h5ad(result_path+'/adata_spatialglue.h5ad')"
   ]
  },
  {
   "cell_type": "code",
   "execution_count": null,
   "id": "8781f58c-afc2-4b3c-8448-60b1397ed76b",
   "metadata": {},
   "outputs": [],
   "source": []
  }
 ],
 "metadata": {
  "kernelspec": {
   "display_name": "Python 3 (ipykernel)",
   "language": "python",
   "name": "python3"
  },
  "language_info": {
   "codemirror_mode": {
    "name": "ipython",
    "version": 3
   },
   "file_extension": ".py",
   "mimetype": "text/x-python",
   "name": "python",
   "nbconvert_exporter": "python",
   "pygments_lexer": "ipython3",
   "version": "3.9.18"
  }
 },
 "nbformat": 4,
 "nbformat_minor": 5
}
