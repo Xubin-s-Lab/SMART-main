{
 "cells": [
  {
   "cell_type": "code",
   "execution_count": 1,
   "id": "6715e6f2-b9e5-4093-8d2c-ba0b4cd35572",
   "metadata": {},
   "outputs": [],
   "source": [
    "import anndata as ad\n",
    "import matplotlib.pyplot as plt\n",
    "import mudata as md\n",
    "import muon\n",
    "import scanpy as sc\n",
    "\n",
    "import time\n"
   ]
  },
  {
   "cell_type": "code",
   "execution_count": null,
   "id": "260cd23e-cf84-48e4-a34b-92699b05424e",
   "metadata": {},
   "outputs": [
    {
     "name": "stderr",
     "output_type": "stream",
     "text": [
      "/home/ws6tg/anaconda3/envs/scvi/lib/python3.9/site-packages/scanpy/preprocessing/_pca.py:325: ImplicitModificationWarning: Setting element `.obsm['X_pca']` of view, initializing view as actual.\n",
      "  adata.obsm[\"X_pca\"] = X_pca\n",
      "/home/ws6tg/anaconda3/envs/scvi/lib/python3.9/site-packages/scanpy/tools/_utils.py:41: UserWarning: You’re trying to run this on 23375 dimensions of `.X`, if you really want this, set `use_rep='X'`.\n",
      "         Falling back to preprocessing with `sc.pp.pca` and default params.\n",
      "  warnings.warn(\n"
     ]
    }
   ],
   "source": [
    "from scipy.sparse import issparse\n",
    "import muon.prot as pt\n",
    "\n",
    "\n",
    "\n",
    "for path in ['../../datasets/Human_Lymph_Node_A1/','../../datasets/Human_Lymph_Node_D1/']:\n",
    "\n",
    "    adata_omics1 = sc.read_h5ad(path + 'adata_RNA.h5ad')\n",
    "    adata_omics2 = sc.read_h5ad(path + 'adata_ADT.h5ad')\n",
    "       \n",
    "    adata_omics1.var_names_make_unique()\n",
    "    adata_omics2.var_names_make_unique()\n",
    "    \n",
    "    adata_omics1.obs['batch'] = 'Thymus'\n",
    "    adata_omics1.layers['counts'] = adata_omics1.X.copy()\n",
    "    \n",
    "    sc.pp.filter_genes(adata_omics2, min_cells=10)\n",
    "    sc.pp.highly_variable_genes(adata_omics1, flavor=\"seurat_v3\", n_top_genes=3000)\n",
    "    sc.pp.normalize_total(adata_omics1, target_sum=1e4)\n",
    "    sc.pp.log1p(adata_omics1)\n",
    "      \n",
    "    adata_omics1_high =  adata_omics1[:, adata_omics1.var['highly_variable']]\n",
    "    sc.pp.pca(adata_omics1_high)\n",
    "      \n",
    "    # Protein\n",
    "    pt.pp.clr(adata_omics2)\n",
    "    sc.pp.scale(adata_omics2)\n",
    "    sc.pp.pca(adata_omics2)\n",
    "    \n",
    "    \n",
    "    mdata = md.MuData({'rna': adata_omics1, 'adt': adata_omics2})\n",
    "    \n",
    "    sc.pp.neighbors(mdata.mod[\"rna\"],n_neighbors=10)\n",
    "    sc.pp.neighbors(mdata.mod[\"adt\"],n_neighbors=10)\n",
    "    muon.pp.neighbors(mdata,n_neighbors=10)\n",
    "\n",
    "    muon.tl.umap(mdata)\n",
    "    \n",
    "    adata=sc.AnnData(X=mdata.X,obs=mdata.obs,uns=mdata.uns,obsm=mdata.obsm,obsp=mdata.obsp)\n",
    "    adata.obsm.update(adata_omics1.obsm)\n",
    "\n",
    "    result_path=path.replace(\"datasets\",\"results\")\n",
    "    adata.write_h5ad(result_path+'/adata_WNN.h5ad')"
   ]
  },
  {
   "cell_type": "code",
   "execution_count": 22,
   "id": "1b1f1b3a-e701-4689-a8c1-42d921c0c41c",
   "metadata": {},
   "outputs": [],
   "source": []
  },
  {
   "cell_type": "code",
   "execution_count": null,
   "id": "8e1b5e3d-ba35-4455-9cb8-27d25f65b9b8",
   "metadata": {},
   "outputs": [],
   "source": []
  }
 ],
 "metadata": {
  "kernelspec": {
   "display_name": "Python 3 (ipykernel)",
   "language": "python",
   "name": "python3"
  },
  "language_info": {
   "codemirror_mode": {
    "name": "ipython",
    "version": 3
   },
   "file_extension": ".py",
   "mimetype": "text/x-python",
   "name": "python",
   "nbconvert_exporter": "python",
   "pygments_lexer": "ipython3",
   "version": "3.9.18"
  }
 },
 "nbformat": 4,
 "nbformat_minor": 5
}
