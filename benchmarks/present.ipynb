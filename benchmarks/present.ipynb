{
 "cells": [
  {
   "cell_type": "code",
   "execution_count": null,
   "id": "392d759f-e97b-4cc9-8e7f-f31bea199092",
   "metadata": {},
   "outputs": [
    {
     "name": "stdout",
     "output_type": "stream",
     "text": [
      "Loading data and parameters...\n",
      "Input data has been loaded\n"
     ]
    },
    {
     "name": "stderr",
     "output_type": "stream",
     "text": [
      "Computing METIS partitioning...\n",
      "Done!\n",
      "Model training:  23%|▏| 23/100 [01:35<05:19,  4.15s/it, NLL_loss=0.0632, BNN_loss=4.92, MSE_loss=0.485, IOA_loss=0.0132, \n"
     ]
    },
    {
     "name": "stdout",
     "output_type": "stream",
     "text": [
      "Early stop the training process\n",
      "Succeed to find 7 clusters at resolution 0.562\n"
     ]
    }
   ],
   "source": [
    "import warnings\n",
    "import pandas as pd\n",
    "import numpy as np\n",
    "import scanpy as sc\n",
    "import episcanpy.api as epi\n",
    "\n",
    "warnings.filterwarnings(\"ignore\")\n",
    "sc.set_figure_params(dpi=80, figsize=(4,4), facecolor=\"white\")\n",
    "\n",
    "\n",
    "for path in ['../../datasets/Human_Lymph_Node_A1/','../../datasets/Human_Lymph_Node_D1/']:\n",
    "    adata_adt = sc.read_h5ad(path+\"adata_ADT.h5ad\")\n",
    "    adata_rna = sc.read_h5ad(path+\"adata_RNA.h5ad\")\n",
    "    \n",
    "    from Present.Main import PRESENT_function \n",
    "    adata = PRESENT_function(\n",
    "        spatial_key = \"spatial\", ## obsm key under which to load the spatial matrix of spots\n",
    "        adata_rna = adata_rna, ## The RNA raw fragment count matrix of spots in anndata.AnnData format\n",
    "        gene_min_cells = 1, ## Minimum number of cells expressed required for a gene to pass filtering\n",
    "        num_hvg = 3000, ## Number of highly variable genes to select for RNA data\n",
    "        adata_adt = adata_adt, ## The ADT raw fragment count matrix of spots in anndata.AnnData format\n",
    "        protein_min_cells = 1, ## Minimum number of cells expressed required for a protein to pass filtering\n",
    "        nclusters = 7,\n",
    "        d_lat=64,\n",
    "        device = \"cuda\", ## Device used for training: cuda or cpu\n",
    "        device_id=0\n",
    "    )\n",
    "    result_path=path.replace(\"datasets\",\"results\")\n",
    "    adata.write_h5ad(result_path+'/adata_Present.h5ad')\n",
    "    "
   ]
  },
  {
   "cell_type": "code",
   "execution_count": null,
   "id": "0ee231b2-f3dd-4b0d-80c8-6078e6e381a3",
   "metadata": {},
   "outputs": [],
   "source": []
  }
 ],
 "metadata": {
  "kernelspec": {
   "display_name": "Python 3 (ipykernel)",
   "language": "python",
   "name": "python3"
  },
  "language_info": {
   "codemirror_mode": {
    "name": "ipython",
    "version": 3
   },
   "file_extension": ".py",
   "mimetype": "text/x-python",
   "name": "python",
   "nbconvert_exporter": "python",
   "pygments_lexer": "ipython3",
   "version": "3.9.18"
  }
 },
 "nbformat": 4,
 "nbformat_minor": 5
}
